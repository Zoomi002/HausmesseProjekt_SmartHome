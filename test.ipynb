{
 "cells": [
  {
   "cell_type": "code",
   "execution_count": null,
   "metadata": {},
   "outputs": [],
   "source": [
    "import smbus2\n",
    "import bme280\n",
    "\n",
    "# I2C-Adresse des BME280-Sensors\n",
    "I2C_ADDRESS = 0x76\n",
    "\n",
    "# Initialisiere den I2C-Bus\n",
    "bus = smbus2.SMBus(1)\n",
    "\n",
    "# Kalibrierungsparameter laden\n",
    "calibration_params = bme280.load_calibration_params(bus, I2C_ADDRESS)\n",
    "\n",
    "# Daten lesen\n",
    "data = bme280.sample(bus, I2C_ADDRESS, calibration_params)\n",
    "\n",
    "print(f\"Temperatur: {data.temperature} °C\")\n",
    "print(f\"Luftdruck: {data.pressure} hPa\")\n",
    "print(f\"Luftfeuchtigkeit: {data.humidity} %\")\n"
   ]
  },
  {
   "cell_type": "code",
   "execution_count": 11,
   "metadata": {},
   "outputs": [
    {
     "ename": "ModuleNotFoundError",
     "evalue": "No module named 'RPi'",
     "output_type": "error",
     "traceback": [
      "\u001b[1;31m---------------------------------------------------------------------------\u001b[0m",
      "\u001b[1;31mModuleNotFoundError\u001b[0m                       Traceback (most recent call last)",
      "Cell \u001b[1;32mIn[11], line 1\u001b[0m\n\u001b[1;32m----> 1\u001b[0m \u001b[38;5;28;01mimport\u001b[39;00m \u001b[38;5;21;01mRPi\u001b[39;00m\u001b[38;5;21;01m.\u001b[39;00m\u001b[38;5;21;01mGPIO\u001b[39;00m \u001b[38;5;28;01mas\u001b[39;00m \u001b[38;5;21;01mGPIO\u001b[39;00m\n\u001b[0;32m      2\u001b[0m \u001b[38;5;28;01mimport\u001b[39;00m \u001b[38;5;21;01mtime\u001b[39;00m\n\u001b[0;32m      4\u001b[0m \u001b[38;5;66;03m# GPIO-Pin, an den die Lichtschranke angeschlossen ist\u001b[39;00m\n",
      "\u001b[1;31mModuleNotFoundError\u001b[0m: No module named 'RPi'"
     ]
    }
   ],
   "source": [
    "import RPi.GPIO as GPIO\n",
    "import time\n",
    "\n",
    "# GPIO-Pin, an den die Lichtschranke angeschlossen ist\n",
    "LIGHT_SENSOR_PIN = 17\n",
    "\n",
    "# GPIO-Modus festlegen\n",
    "GPIO.setmode(GPIO.BCM)\n",
    "GPIO.setup(LIGHT_SENSOR_PIN, GPIO.IN)\n",
    "\n",
    "def light_detected(channel):\n",
    "    print(\"Lichtschranke unterbrochen!\")\n",
    "\n",
    "# Ereignis-Erkennung einrichten\n",
    "GPIO.add_event_detect(LIGHT_SENSOR_PIN, GPIO.FALLING, callback=light_detected)\n",
    "\n",
    "try:\n",
    "    while True:\n",
    "        # Überwachung der Lichtschranke\n",
    "        time.sleep(1)\n",
    "except KeyboardInterrupt:\n",
    "    GPIO.cleanup()\n"
   ]
  }
 ],
 "metadata": {
  "kernelspec": {
   "display_name": "Python 3",
   "language": "python",
   "name": "python3"
  },
  "language_info": {
   "codemirror_mode": {
    "name": "ipython",
    "version": 3
   },
   "file_extension": ".py",
   "mimetype": "text/x-python",
   "name": "python",
   "nbconvert_exporter": "python",
   "pygments_lexer": "ipython3",
   "version": "3.11.4"
  }
 },
 "nbformat": 4,
 "nbformat_minor": 2
}
